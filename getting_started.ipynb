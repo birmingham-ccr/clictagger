{
 "cells": [
  {
   "cell_type": "markdown",
   "id": "dominant-bracelet",
   "metadata": {},
   "source": [
    "# Getting started with clictagger in Jupyter Notebooks\n",
    "\n",
    "Firstly, load the module:"
   ]
  },
  {
   "cell_type": "code",
   "execution_count": 1,
   "id": "metropolitan-sierra",
   "metadata": {},
   "outputs": [],
   "source": [
    "from clictagger.taggedtext import TaggedText"
   ]
  },
  {
   "cell_type": "markdown",
   "id": "civic-month",
   "metadata": {},
   "source": [
    "All clictagger operations are done on a TaggedText object, so we create one first. Text should conform to [cleaning of corpora texts](https://github.com/birmingham-ccr/corpora#cleaning-of-corpora-texts) rules in the corpora repository.\n",
    "\n",
    "Text can be loaded directly from a string. When printing out a summary we get a summary of the regions found in the text:"
   ]
  },
  {
   "cell_type": "code",
   "execution_count": 2,
   "id": "boxed-exhibition",
   "metadata": {
    "scrolled": true
   },
   "outputs": [
    {
     "data": {
      "text/html": [
       "<b>TaggedText:</b>Alice’s Adventures in Wonderland<table><tr><th>characters</th><td>675</td></tr><tr><th>metadata.title</th><td>1</td></tr><tr><th>metadata.author</th><td>1</td></tr><tr><th>chapter.title</th><td>1</td></tr><tr><th>chapter.text</th><td>1</td></tr><tr><th>chapter.paragraph</th><td>2</td></tr><tr><th>chapter.sentence</th><td>2</td></tr><tr><th>quote.quote</th><td>2</td></tr><tr><th>quote.nonquote</th><td>3</td></tr><tr><th>quote.suspension.short</th><td>1</td></tr><tr><th>tokens</th><td>123</td></tr></table>"
      ],
      "text/plain": [
       "<clictagger.taggedtext.TaggedText at 0x7f626405ec40>"
      ]
     },
     "execution_count": 2,
     "metadata": {},
     "output_type": "execute_result"
    }
   ],
   "source": [
    "tt = TaggedText('''\n",
    "Alice’s Adventures in Wonderland\n",
    "Lewis Carroll\n",
    "\n",
    "CHAPTER I. Down the Rabbit-Hole\n",
    "\n",
    "Alice was beginning to get very tired of sitting by her sister on the\n",
    "bank, and of having nothing to do: once or twice she had peeped into the\n",
    "book her sister was reading, but it had no pictures or conversations in\n",
    "it, ‘and what is the use of a book,’ thought Alice ‘without pictures or\n",
    "conversations?’\n",
    "\n",
    "So she was considering in her own mind (as well as she could, for the\n",
    "hot day made her feel very sleepy and stupid), whether the pleasure\n",
    "of making a daisy-chain would be worth the trouble of getting up and\n",
    "picking the daisies, when suddenly a White Rabbit with pink eyes ran\n",
    "close by her.\n",
    "'''.lstrip())\n",
    "tt"
   ]
  },
  {
   "cell_type": "markdown",
   "id": "signed-cuisine",
   "metadata": {},
   "source": [
    "We can also load text from the [corpora repository](https://github.com/birmingham-ccr/corpora) directly, by specifying a path to a \".txt\" file in the repository. The tag is the version of corpora you are using. Enter the 7-character string of [the latest commit on the commits page](https://github.com/birmingham-ccr/corpora/commits/master), so if the text changes in future your work will stay reproducible:"
   ]
  },
  {
   "cell_type": "code",
   "execution_count": 3,
   "id": "billion-anaheim",
   "metadata": {},
   "outputs": [
    {
     "data": {
      "text/html": [
       "<b>TaggedText:</b>https://raw.githubusercontent.com/birmingham-ccr/corpora/80d00e4/ChiLit/alice.txt<table><tr><th>characters</th><td>144396</td></tr><tr><th>metadata.title</th><td>1</td></tr><tr><th>metadata.author</th><td>1</td></tr><tr><th>chapter.title</th><td>12</td></tr><tr><th>chapter.text</th><td>12</td></tr><tr><th>chapter.paragraph</th><td>804</td></tr><tr><th>chapter.sentence</th><td>1674</td></tr><tr><th>quote.quote</th><td>1098</td></tr><tr><th>quote.embedded</th><td>47</td></tr><tr><th>quote.nonquote</th><td>865</td></tr><tr><th>quote.suspension.short</th><td>166</td></tr><tr><th>quote.suspension.long</th><td>106</td></tr><tr><th>tokens</th><td>26548</td></tr></table>"
      ],
      "text/plain": [
       "<clictagger.taggedtext.TaggedText at 0x7f626406eac0>"
      ]
     },
     "execution_count": 3,
     "metadata": {},
     "output_type": "execute_result"
    }
   ],
   "source": [
    "tt_corpora = TaggedText.from_corpora('ChiLit/alice', tag='80d00e4')\n",
    "tt_corpora"
   ]
  },
  {
   "cell_type": "markdown",
   "id": "coordinate-moses",
   "metadata": {},
   "source": [
    "The ``markup()`` function will reformat the tagged text into coloured output, highlighting regions that were found:"
   ]
  },
  {
   "cell_type": "code",
   "execution_count": 4,
   "id": "liberal-lodging",
   "metadata": {},
   "outputs": [
    {
     "data": {
      "text/html": [
       "<style>#tt-brpzbpjstmkclmeswjdr {\n",
       "  max-width: 960px;\n",
       "  margin: auto;\n",
       "  padding: 10px;\n",
       "  line-height: 1.4em;\n",
       "  font-family: serif;\n",
       "  font-size: 1.1em;\n",
       "}\n",
       "\n",
       "#tt-brpzbpjstmkclmeswjdr .legend {\n",
       "  float: right;\n",
       "}\n",
       "\n",
       "#tt-brpzbpjstmkclmeswjdr .metadata-title { background: cornflowerblue }\n",
       "#tt-brpzbpjstmkclmeswjdr .metadata-author { background: yellowgreen }\n",
       "#tt-brpzbpjstmkclmeswjdr .chapter-sentence { background: palevioletred }\n",
       "#tt-brpzbpjstmkclmeswjdr .quote-quote { background: violet }\n",
       "#tt-brpzbpjstmkclmeswjdr .quote-suspension-short { background: skyblue }\n",
       "#tt-brpzbpjstmkclmeswjdr .quote-suspension-long { background: goldenrod }</style><div class=\"clictagger-tt\" id=\"tt-brpzbpjstmkclmeswjdr\"><ul class=\"legend\"><li class=\"metadata-title\">metadata.title</li><li class=\"metadata-author\">metadata.author</li><li class=\"chapter-sentence\">chapter.sentence</li><li class=\"quote-quote\">quote.quote</li><li class=\"quote-suspension-short\">quote.suspension.short</li><li class=\"quote-suspension-long\">quote.suspension.long</li><li class=\"chapter-title\">chapter.title</li></ul><span></span><span title=\"metadata.title\" class=\"metadata-title\">Alice’s Adventures in Wonderland</span><span title=\"\" class=\"\"><br/>\n",
       "</span><span title=\"metadata.author\" class=\"metadata-author\">Lewis Carroll</span><span title=\"\" class=\"\"><br/>\n",
       "<br/>\n",
       "</span><span title=\"chapter.title:1\" class=\"chapter-title\">CHAPTER I. Down the Rabbit-Hole</span><span title=\"\" class=\"\"><br/>\n",
       "<br/>\n",
       "</span><span title=\"chapter.paragraph:1 chapter.sentence:1 chapter.text:1 quote.nonquote\" class=\"chapter-paragraph chapter-sentence chapter-text quote-nonquote\">Alice was beginning to get very tired of sitting by her sister on the<br/>\n",
       "bank, and of having nothing to do: once or twice she had peeped into the<br/>\n",
       "book her sister was reading, but it had no pictures or conversations in<br/>\n",
       "it,</span><span title=\"chapter.paragraph:1 chapter.sentence:1 chapter.text:1\" class=\"chapter-paragraph chapter-sentence chapter-text\"> </span><span title=\"chapter.paragraph:1 chapter.sentence:1 chapter.text:1 quote.quote\" class=\"chapter-paragraph chapter-sentence chapter-text quote-quote\">‘and what is the use of a book,’</span><span title=\"chapter.paragraph:1 chapter.sentence:1 chapter.text:1\" class=\"chapter-paragraph chapter-sentence chapter-text\"> </span><span title=\"chapter.paragraph:1 chapter.sentence:1 chapter.text:1 quote.nonquote quote.suspension.short\" class=\"chapter-paragraph chapter-sentence chapter-text quote-nonquote quote-suspension-short\">thought Alice</span><span title=\"chapter.paragraph:1 chapter.sentence:1 chapter.text:1\" class=\"chapter-paragraph chapter-sentence chapter-text\"> </span><span title=\"chapter.paragraph:1 chapter.sentence:1 chapter.text:1 quote.quote\" class=\"chapter-paragraph chapter-sentence chapter-text quote-quote\">‘without pictures or<br/>\n",
       "conversations?’</span><span title=\"chapter.text:1\" class=\"chapter-text\"><br/>\n",
       "<br/>\n",
       "</span><span title=\"chapter.text:1 chapter.paragraph:2 chapter.sentence:2 quote.nonquote\" class=\"chapter-text chapter-paragraph chapter-sentence quote-nonquote\">So she was considering in her own mind (as well as she could, for the<br/>\n",
       "hot day made her feel very sleepy and stupid), whether the pleasure<br/>\n",
       "of making a daisy-chain would be worth the trouble of getting up and<br/>\n",
       "picking the daisies, when suddenly a White Rabbit with pink eyes ran<br/>\n",
       "close by her.</span></div>"
      ],
      "text/plain": [
       "<clictagger.markup.TaggedTextRegionMarkup at 0x7f626406ec40>"
      ]
     },
     "execution_count": 4,
     "metadata": {},
     "output_type": "execute_result"
    }
   ],
   "source": [
    "tt.markup()"
   ]
  },
  {
   "cell_type": "markdown",
   "id": "conventional-association",
   "metadata": {},
   "source": [
    "We can also specify which region classes we want highlighted:"
   ]
  },
  {
   "cell_type": "code",
   "execution_count": 5,
   "id": "original-dress",
   "metadata": {
    "scrolled": true
   },
   "outputs": [
    {
     "data": {
      "text/html": [
       "<style>#tt-cuinngnupqcymyugknxe {\n",
       "  max-width: 960px;\n",
       "  margin: auto;\n",
       "  padding: 10px;\n",
       "  line-height: 1.4em;\n",
       "  font-family: serif;\n",
       "  font-size: 1.1em;\n",
       "}\n",
       "\n",
       "#tt-cuinngnupqcymyugknxe .legend {\n",
       "  float: right;\n",
       "}\n",
       "\n",
       "#tt-cuinngnupqcymyugknxe .quote-quote { background: cornflowerblue }\n",
       "#tt-cuinngnupqcymyugknxe .quote-suspension-short { background: yellowgreen }\n",
       "#tt-cuinngnupqcymyugknxe .highlight-2 { background: palevioletred }\n",
       "#tt-cuinngnupqcymyugknxe .highlight-3 { background: violet }\n",
       "#tt-cuinngnupqcymyugknxe .highlight-4 { background: skyblue }\n",
       "#tt-cuinngnupqcymyugknxe .highlight-5 { background: goldenrod }</style><div class=\"clictagger-tt\" id=\"tt-cuinngnupqcymyugknxe\"><ul class=\"legend\"><li class=\"quote-quote\">quote.quote</li><li class=\"quote-suspension-short\">quote.suspension.short</li></ul><span></span><span title=\"metadata.title\" class=\"metadata-title\">Alice’s Adventures in Wonderland</span><span title=\"\" class=\"\"><br/>\n",
       "</span><span title=\"metadata.author\" class=\"metadata-author\">Lewis Carroll</span><span title=\"\" class=\"\"><br/>\n",
       "<br/>\n",
       "</span><span title=\"chapter.title:1\" class=\"chapter-title\">CHAPTER I. Down the Rabbit-Hole</span><span title=\"\" class=\"\"><br/>\n",
       "<br/>\n",
       "</span><span title=\"chapter.paragraph:1 chapter.sentence:1 chapter.text:1 quote.nonquote\" class=\"chapter-paragraph chapter-sentence chapter-text quote-nonquote\">Alice was beginning to get very tired of sitting by her sister on the<br/>\n",
       "bank, and of having nothing to do: once or twice she had peeped into the<br/>\n",
       "book her sister was reading, but it had no pictures or conversations in<br/>\n",
       "it,</span><span title=\"chapter.paragraph:1 chapter.sentence:1 chapter.text:1\" class=\"chapter-paragraph chapter-sentence chapter-text\"> </span><span title=\"chapter.paragraph:1 chapter.sentence:1 chapter.text:1 quote.quote\" class=\"chapter-paragraph chapter-sentence chapter-text quote-quote\">‘and what is the use of a book,’</span><span title=\"chapter.paragraph:1 chapter.sentence:1 chapter.text:1\" class=\"chapter-paragraph chapter-sentence chapter-text\"> </span><span title=\"chapter.paragraph:1 chapter.sentence:1 chapter.text:1 quote.nonquote quote.suspension.short\" class=\"chapter-paragraph chapter-sentence chapter-text quote-nonquote quote-suspension-short\">thought Alice</span><span title=\"chapter.paragraph:1 chapter.sentence:1 chapter.text:1\" class=\"chapter-paragraph chapter-sentence chapter-text\"> </span><span title=\"chapter.paragraph:1 chapter.sentence:1 chapter.text:1 quote.quote\" class=\"chapter-paragraph chapter-sentence chapter-text quote-quote\">‘without pictures or<br/>\n",
       "conversations?’</span><span title=\"chapter.text:1\" class=\"chapter-text\"><br/>\n",
       "<br/>\n",
       "</span><span title=\"chapter.text:1 chapter.paragraph:2 chapter.sentence:2 quote.nonquote\" class=\"chapter-text chapter-paragraph chapter-sentence quote-nonquote\">So she was considering in her own mind (as well as she could, for the<br/>\n",
       "hot day made her feel very sleepy and stupid), whether the pleasure<br/>\n",
       "of making a daisy-chain would be worth the trouble of getting up and<br/>\n",
       "picking the daisies, when suddenly a White Rabbit with pink eyes ran<br/>\n",
       "close by her.</span></div>"
      ],
      "text/plain": [
       "<clictagger.markup.TaggedTextRegionMarkup at 0x7f62640175e0>"
      ]
     },
     "execution_count": 5,
     "metadata": {},
     "output_type": "execute_result"
    }
   ],
   "source": [
    "tt.markup([\"quote.quote\", \"quote.suspension.short\"])"
   ]
  },
  {
   "cell_type": "markdown",
   "id": "female-motor",
   "metadata": {},
   "source": [
    "Alternatively, the ``table()`` function will return a table of each region tag, and it's start and end position in the text. Again we can provide a list of region classes we're interested in:"
   ]
  },
  {
   "cell_type": "code",
   "execution_count": 6,
   "id": "communist-alaska",
   "metadata": {},
   "outputs": [
    {
     "data": {
      "text/html": [
       "<table>\n",
       "<tr><th>Region class</th><th>Start</th><th>End</th><th>Region value</th><th>Content</th></tr>\n",
       "<tr><td>quote.quote</td> <td>300</td> <td>332</td> <td></td> <td style=\"text-align: left\">‘and what is the use of a book,’</td></tr>\n",
       "<tr><td>quote.quote</td> <td>347</td> <td>383</td> <td></td> <td style=\"text-align: left\">‘without pictures or\n",
       "conversations?’</td></tr>\n",
       "<tr><td>quote.suspension.short</td> <td>333</td> <td>346</td> <td></td> <td style=\"text-align: left\">thought Alice</td></tr>\n",
       "</table>\n"
      ],
      "text/plain": [
       "<clictagger.table.TaggedTextRegionTable at 0x7f6247c1d130>"
      ]
     },
     "execution_count": 6,
     "metadata": {},
     "output_type": "execute_result"
    }
   ],
   "source": [
    "tt.table([\"quote.quote\", \"quote.suspension.short\"])"
   ]
  },
  {
   "cell_type": "markdown",
   "id": "empirical-burden",
   "metadata": {},
   "source": [
    "By providing the display parameter, we can have a CSV download link instead:"
   ]
  },
  {
   "cell_type": "code",
   "execution_count": 7,
   "id": "forty-verse",
   "metadata": {
    "scrolled": true
   },
   "outputs": [
    {
     "data": {
      "text/html": [
       "<a download=\"Alice’s Adventures in Wonderland.csv\" href=\"data:text/csv;base64,IlJlZ2lvbiBjbGFzcyIsIlN0YXJ0IiwiRW5kIiwiUmVnaW9uIHZhbHVlIiwiQ29udGVudCINCnF1b3RlLnF1b3RlLDMwMCwzMzIsIiIsIuKAmGFuZCB3aGF0IGlzIHRoZSB1c2Ugb2YgYSBib29rLOKAmSINCnF1b3RlLnF1b3RlLDM0NywzODMsIiIsIuKAmHdpdGhvdXQgcGljdHVyZXMgb3IgY29udmVyc2F0aW9ucz/igJkiDQpxdW90ZS5zdXNwZW5zaW9uLnNob3J0LDMzMywzNDYsIiIsInRob3VnaHQgQWxpY2UiDQo=\" target=\"_blank\">Download CSV file</a>"
      ],
      "text/plain": [
       "<clictagger.table.TaggedTextRegionTable at 0x7f6247c1d9d0>"
      ]
     },
     "execution_count": 7,
     "metadata": {},
     "output_type": "execute_result"
    }
   ],
   "source": [
    "tt.table([\"quote.quote\", \"quote.suspension.short\"], display='csv-download')"
   ]
  },
  {
   "cell_type": "markdown",
   "id": "intelligent-narrow",
   "metadata": {},
   "source": [
    "Again, we can get a table of the region types we are interested in:"
   ]
  },
  {
   "cell_type": "code",
   "execution_count": 8,
   "id": "behind-stock",
   "metadata": {},
   "outputs": [
    {
     "data": {
      "text/html": [
       "<table>\n",
       "<tr><th>Region class</th><th>Start</th><th>End</th><th>Region value</th><th>Content</th></tr>\n",
       "<tr><td>quote.embedded</td> <td>15351</td> <td>15374</td> <td></td> <td style=\"text-align: left\">“How doth the little--”</td></tr>\n",
       "<tr><td>quote.embedded</td> <td>16251</td> <td>16273</td> <td></td> <td style=\"text-align: left\">“Come up again, dear!”</td></tr>\n",
       "<tr><td>quote.embedded</td> <td>16303</td> <td>16443</td> <td></td> <td style=\"text-align: left\">“Who am I then? Tell me that first, and then,\n",
       "if I like being that person, I’ll come up: if not, I’ll stay down here\n",
       "till I’m somebody else”</td></tr>\n",
       "<tr><td>quote.embedded</td> <td>23759</td> <td>24000</td> <td></td> <td style=\"text-align: left\">“William\n",
       "the Conqueror, whose cause was favoured by the pope, was soon submitted\n",
       "to by the English, who wanted leaders, and had been of late much\n",
       "accustomed to usurpation and conquest. Edwin and Morcar, the earls of\n",
       "Mercia and Northumbria--”</td></tr>\n",
       "<tr><td>quote.embedded</td> <td>24209</td> <td>24362</td> <td></td> <td style=\"text-align: left\">“Edwin and Morcar,\n",
       "the earls of Mercia and Northumbria, declared for him: and even Stigand,\n",
       "the patriotic archbishop of Canterbury, found it advisable--”</td></tr>\n",
       "<tr><td>quote.embedded</td> <td>24701</td> <td>24866</td> <td></td> <td style=\"text-align: left\">“--found\n",
       "it advisable to go with Edgar Atheling to meet William and offer him the\n",
       "crown. William’s conduct at first was moderate. But the insolence of his\n",
       "Normans--”</td></tr>\n",
       "<tr><td>quote.embedded</td> <td>28830</td> <td>29059</td> <td></td> <td style=\"text-align: left\">“Let us\n",
       "      both go to\n",
       "       law: I will\n",
       "        prosecute\n",
       "         YOU.--Come,\n",
       "           I’ll take no\n",
       "           denial; We\n",
       "          must have a\n",
       "        trial: For\n",
       "      really this\n",
       "     morning I’ve\n",
       "    nothing\n",
       "    to do.”</td></tr>\n",
       "<tr><td>quote.embedded</td> <td>29106</td> <td>29255</td> <td></td> <td style=\"text-align: left\">“Such\n",
       "        a trial,\n",
       "         dear Sir,\n",
       "            With\n",
       "          no jury\n",
       "        or judge,\n",
       "       would be\n",
       "      wasting\n",
       "      our\n",
       "      breath.”</td></tr>\n",
       "<tr><td>quote.embedded</td> <td>29264</td> <td>29311</td> <td></td> <td style=\"text-align: left\">“I’ll be\n",
       "        judge, I’ll\n",
       "         be jury,”</td></tr>\n",
       "<tr><td>quote.embedded</td> <td>29377</td> <td>29521</td> <td></td> <td style=\"text-align: left\">“I’ll\n",
       "          try the\n",
       "            whole\n",
       "            cause,\n",
       "              and\n",
       "           condemn\n",
       "           you\n",
       "          to\n",
       "           death.”</td></tr>\n",
       "<tr><td>quote.embedded</td> <td>33844</td> <td>33906</td> <td></td> <td style=\"text-align: left\">“Miss Alice! Come\n",
       "here directly, and get ready for your walk!”</td></tr>\n",
       "<tr><td>quote.embedded</td> <td>33907</td> <td>33987</td> <td></td> <td style=\"text-align: left\">“Coming in a minute,\n",
       "nurse! But I’ve got to see that the mouse doesn’t get out.”</td></tr>\n",
       "<tr><td>quote.embedded</td> <td>48578</td> <td>48609</td> <td></td> <td style=\"text-align: left\">“HOW DOTH THE LITTLE BUSY BEE,”</td></tr>\n",
       "<tr><td>quote.embedded</td> <td>48690</td> <td>48720</td> <td></td> <td style=\"text-align: left\">“YOU ARE OLD, FATHER WILLIAM,”</td></tr>\n",
       "<tr><td>quote.embedded</td> <td>73790</td> <td>73808</td> <td></td> <td style=\"text-align: left\">“I see what I eat”</td></tr>\n",
       "<tr><td>quote.embedded</td> <td>73830</td> <td>73848</td> <td></td> <td style=\"text-align: left\">“I eat what I see”</td></tr>\n",
       "<tr><td>quote.embedded</td> <td>73910</td> <td>73929</td> <td></td> <td style=\"text-align: left\">“I like what I\n",
       "get”</td></tr>\n",
       "<tr><td>quote.embedded</td> <td>73951</td> <td>73970</td> <td></td> <td style=\"text-align: left\">“I get what I like”</td></tr>\n",
       "<tr><td>quote.embedded</td> <td>74069</td> <td>74093</td> <td></td> <td style=\"text-align: left\">“I breathe when I sleep”</td></tr>\n",
       "<tr><td>quote.embedded</td> <td>74115</td> <td>74139</td> <td></td> <td style=\"text-align: left\">“I sleep when I breathe”</td></tr>\n",
       "<tr><td>quote.embedded</td> <td>78302</td> <td>78347</td> <td></td> <td style=\"text-align: left\">“He’s murdering the time! Off with his\n",
       "head!”</td></tr>\n",
       "<tr><td>quote.embedded</td> <td>83048</td> <td>83068</td> <td></td> <td style=\"text-align: left\">“much of a muchness”</td></tr>\n",
       "<tr><td>quote.embedded</td> <td>90607</td> <td>90621</td> <td></td> <td style=\"text-align: left\">“What a pity!”</td></tr>\n",
       "<tr><td>quote.embedded</td> <td>90713</td> <td>90724</td> <td></td> <td style=\"text-align: left\">“What for?”</td></tr>\n",
       "<tr><td>quote.embedded</td> <td>100013</td> <td>100071</td> <td></td> <td style=\"text-align: left\">“Oh, ‘tis love,\n",
       "‘tis love, that makes the world go round!”</td></tr>\n",
       "<tr><td>quote.embedded</td> <td>100320</td> <td>100390</td> <td></td> <td style=\"text-align: left\">“Take care of the sense, and the sounds will take care of\n",
       "themselves.”</td></tr>\n",
       "<tr><td>quote.embedded</td> <td>100862</td> <td>100898</td> <td></td> <td style=\"text-align: left\">“Birds of a feather flock together.”</td></tr>\n",
       "<tr><td>quote.embedded</td> <td>101233</td> <td>101289</td> <td></td> <td style=\"text-align: left\">“The more there is of mine, the less there is of\n",
       "yours.”</td></tr>\n",
       "<tr><td>quote.embedded</td> <td>101494</td> <td>101524</td> <td></td> <td style=\"text-align: left\">“Be what you would seem to be”</td></tr>\n",
       "<tr><td>quote.embedded</td> <td>101563</td> <td>101767</td> <td></td> <td style=\"text-align: left\">“Never imagine yourself not to be otherwise than what it might\n",
       "appear to others that what you were or might have been was not otherwise\n",
       "than what you had been would have appeared to them to be otherwise.”</td></tr>\n",
       "<tr><td>quote.embedded</td> <td>105472</td> <td>105482</td> <td></td> <td style=\"text-align: left\">“come on!”</td></tr>\n",
       "<tr><td>quote.embedded</td> <td>108362</td> <td>108398</td> <td></td> <td style=\"text-align: left\">“French, music, AND WASHING--extra.”</td></tr>\n",
       "<tr><td>quote.embedded</td> <td>108815</td> <td>108830</td> <td></td> <td style=\"text-align: left\">“Uglification,”</td></tr>\n",
       "<tr><td>quote.embedded</td> <td>113244</td> <td>113276</td> <td></td> <td style=\"text-align: left\">“Will you walk a little faster?”</td></tr>\n",
       "<tr><td>quote.embedded</td> <td>114051</td> <td>114083</td> <td></td> <td style=\"text-align: left\">“What matters it how far we go?”</td></tr>\n",
       "<tr><td>quote.embedded</td> <td>116563</td> <td>116610</td> <td></td> <td style=\"text-align: left\">“Keep back, please: we\n",
       "don’t want YOU with us!”</td></tr>\n",
       "<tr><td>quote.embedded</td> <td>116911</td> <td>116932</td> <td></td> <td style=\"text-align: left\">“With what porpoise?”</td></tr>\n",
       "<tr><td>quote.embedded</td> <td>118280</td> <td>118313</td> <td></td> <td style=\"text-align: left\">“‘TIS THE VOICE OF THE SLUGGARD,”</td></tr>\n",
       "<tr><td>quote.embedded</td> <td>118691</td> <td>118743</td> <td></td> <td style=\"text-align: left\">“You have baked me too brown, I must sugar my hair.”</td></tr>\n",
       "<tr><td>quote.embedded</td> <td>119853</td> <td>119878</td> <td></td> <td style=\"text-align: left\">“I passed by his garden.”</td></tr>\n",
       "<tr><td>quote.embedded</td> <td>121013</td> <td>121027</td> <td></td> <td style=\"text-align: left\">“Turtle Soup,”</td></tr>\n",
       "<tr><td>quote.embedded</td> <td>130280</td> <td>130381</td> <td></td> <td style=\"text-align: left\">“There was some attempts\n",
       "at applause, which was immediately suppressed by the officers of the\n",
       "court,”</td></tr>\n",
       "<tr><td>quote.embedded</td> <td>139239</td> <td>139266</td> <td></td> <td style=\"text-align: left\">“--SAID\n",
       "I COULD NOT SWIM--”</td></tr>\n",
       "<tr><td>quote.embedded</td> <td>139543</td> <td>139568</td> <td></td> <td style=\"text-align: left\">“WE KNOW IT TO BE TRUE--”</td></tr>\n",
       "<tr><td>quote.embedded</td> <td>139597</td> <td>139634</td> <td></td> <td style=\"text-align: left\">“I GAVE HER ONE, THEY GAVE HIM TWO--”</td></tr>\n",
       "<tr><td>quote.embedded</td> <td>139711</td> <td>139747</td> <td></td> <td style=\"text-align: left\">“THEY ALL RETURNED FROM HIM TO YOU,”</td></tr>\n",
       "<tr><td>quote.embedded</td> <td>139896</td> <td>139923</td> <td></td> <td style=\"text-align: left\">“BEFORE SHE\n",
       "HAD THIS FIT--”</td></tr>\n",
       "</table>\n"
      ],
      "text/plain": [
       "<clictagger.table.TaggedTextRegionTable at 0x7f6247c26070>"
      ]
     },
     "execution_count": 8,
     "metadata": {},
     "output_type": "execute_result"
    }
   ],
   "source": [
    "tt_corpora.table([\"quote.embedded\"])"
   ]
  }
 ],
 "metadata": {
  "kernelspec": {
   "display_name": "Python 3",
   "language": "python",
   "name": "python3"
  },
  "language_info": {
   "codemirror_mode": {
    "name": "ipython",
    "version": 3
   },
   "file_extension": ".py",
   "mimetype": "text/x-python",
   "name": "python",
   "nbconvert_exporter": "python",
   "pygments_lexer": "ipython3",
   "version": "3.9.2"
  }
 },
 "nbformat": 4,
 "nbformat_minor": 5
}
