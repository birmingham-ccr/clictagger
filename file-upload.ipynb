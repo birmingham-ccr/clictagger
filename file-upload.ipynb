{
 "cells": [
  {
   "cell_type": "code",
   "execution_count": 14,
   "id": "sacred-arctic",
   "metadata": {},
   "outputs": [
    {
     "data": {
      "application/vnd.jupyter.widget-view+json": {
       "model_id": "295cc2784ce7401688dd11659b07a505",
       "version_major": 2,
       "version_minor": 0
      },
      "text/plain": [
       "FileUpload(value={}, accept='.txt', description='Upload', multiple=True)"
      ]
     },
     "metadata": {},
     "output_type": "display_data"
    }
   ],
   "source": [
    "from clictagger.taggedtext import TaggedText\n",
    "from ipywidgets import FileUpload\n",
    "upload = FileUpload(accept='.txt', multiple=True)\n",
    "display(upload)"
   ]
  },
  {
   "cell_type": "code",
   "execution_count": 15,
   "id": "decent-technician",
   "metadata": {},
   "outputs": [],
   "source": [
    "for uploaded_filename in iter(upload.value):\n",
    "    display(uploaded_filename)\n",
    "    tt = TaggedText(upload.value[uploaded_filename]['content'].decode('utf8'), name = uploaded_filename)\n",
    "    display(tt.table(display='csv-download'))\n"
   ]
  }
 ],
 "metadata": {
  "kernelspec": {
   "display_name": "Python 3",
   "language": "python",
   "name": "python3"
  },
  "language_info": {
   "codemirror_mode": {
    "name": "ipython",
    "version": 3
   },
   "file_extension": ".py",
   "mimetype": "text/x-python",
   "name": "python",
   "nbconvert_exporter": "python",
   "pygments_lexer": "ipython3",
   "version": "3.9.2"
  }
 },
 "nbformat": 4,
 "nbformat_minor": 5
}
