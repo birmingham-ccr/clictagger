{
 "cells": [
  {
   "cell_type": "markdown",
   "id": "familiar-native",
   "metadata": {},
   "source": [
    "# Tagged CSVs from file upload(s)\n",
    "\n",
    "Click on the upload box below, and select all the files you would like to be tagged in the upload box."
   ]
  },
  {
   "cell_type": "code",
   "execution_count": 52,
   "id": "sacred-arctic",
   "metadata": {
    "scrolled": true
   },
   "outputs": [
    {
     "data": {
      "application/vnd.jupyter.widget-view+json": {
       "model_id": "0d7b63bca670425989a8ca2f140ec9da",
       "version_major": 2,
       "version_minor": 0
      },
      "text/plain": [
       "interactive(children=(FileUpload(value={}, accept='.txt', description='Upload', multiple=True), Output()), _do…"
      ]
     },
     "metadata": {},
     "output_type": "display_data"
    }
   ],
   "source": [
    "from clictagger.taggedtext import TaggedText\n",
    "import ipywidgets as widgets\n",
    "\n",
    "def to_csv(upload):\n",
    "    tts = [TaggedText(upload[f]['content'].decode('utf8'), name=f) for f in upload]\n",
    "    for tt in tts:\n",
    "        display(tt.table(display='csv-download'))\n",
    "    for tt in tts:\n",
    "        display(tt.markup())\n",
    "widgets.interactive(to_csv, upload=widgets.FileUpload(accept='.txt', multiple=True))"
   ]
  }
 ],
 "metadata": {
  "kernelspec": {
   "display_name": "Python 3",
   "language": "python",
   "name": "python3"
  },
  "language_info": {
   "codemirror_mode": {
    "name": "ipython",
    "version": 3
   },
   "file_extension": ".py",
   "mimetype": "text/x-python",
   "name": "python",
   "nbconvert_exporter": "python",
   "pygments_lexer": "ipython3",
   "version": "3.9.2"
  }
 },
 "nbformat": 4,
 "nbformat_minor": 5
}
